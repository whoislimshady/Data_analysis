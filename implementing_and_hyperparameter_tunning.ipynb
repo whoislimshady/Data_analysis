{
  "cells": [
    {
      "cell_type": "markdown",
      "metadata": {
        "id": "view-in-github",
        "colab_type": "text"
      },
      "source": [
        "<a href=\"https://colab.research.google.com/github/whoislimshady/Data_analysis/blob/main/implementing_and_hyperparameter_tunning.ipynb\" target=\"_parent\"><img src=\"https://colab.research.google.com/assets/colab-badge.svg\" alt=\"Open In Colab\"/></a>"
      ]
    },
    {
      "cell_type": "code",
      "execution_count": null,
      "metadata": {
        "id": "PztgRKlLC5OT"
      },
      "outputs": [],
      "source": [
        "import numpy as np\n",
        "import pandas as pd\n",
        "import tensorflow as tf\n",
        "from numpy import asarray\n",
        "from sklearn.preprocessing import MinMaxScaler\n",
        "from sklearn.preprocessing import StandardScaler\n",
        "from sklearn.model_selection import train_test_split"
      ]
    },
    {
      "cell_type": "code",
      "execution_count": null,
      "metadata": {
        "id": "0epJlhZ6jF1N"
      },
      "outputs": [],
      "source": [
        "df = pd.read_csv(\"dataset.csv\")"
      ]
    },
    {
      "cell_type": "code",
      "execution_count": null,
      "metadata": {
        "colab": {
          "base_uri": "https://localhost:8080/",
          "height": 206
        },
        "id": "zR_5g73Uj_gq",
        "outputId": "553d89df-b7e8-4896-c8a2-3f265be5b50c"
      },
      "outputs": [
        {
          "data": {
            "text/html": [
              "\n",
              "  <div id=\"df-c51e0be7-f72a-41ac-957f-bfadf3d22833\">\n",
              "    <div class=\"colab-df-container\">\n",
              "      <div>\n",
              "<style scoped>\n",
              "    .dataframe tbody tr th:only-of-type {\n",
              "        vertical-align: middle;\n",
              "    }\n",
              "\n",
              "    .dataframe tbody tr th {\n",
              "        vertical-align: top;\n",
              "    }\n",
              "\n",
              "    .dataframe thead th {\n",
              "        text-align: right;\n",
              "    }\n",
              "</style>\n",
              "<table border=\"1\" class=\"dataframe\">\n",
              "  <thead>\n",
              "    <tr style=\"text-align: right;\">\n",
              "      <th></th>\n",
              "      <th>f1</th>\n",
              "      <th>f2</th>\n",
              "      <th>f3</th>\n",
              "      <th>f4</th>\n",
              "      <th>f5</th>\n",
              "      <th>f6</th>\n",
              "      <th>f7</th>\n",
              "      <th>target</th>\n",
              "    </tr>\n",
              "  </thead>\n",
              "  <tbody>\n",
              "    <tr>\n",
              "      <th>0</th>\n",
              "      <td>6</td>\n",
              "      <td>148</td>\n",
              "      <td>72</td>\n",
              "      <td>35</td>\n",
              "      <td>0</td>\n",
              "      <td>33.6</td>\n",
              "      <td>0.627</td>\n",
              "      <td>1</td>\n",
              "    </tr>\n",
              "    <tr>\n",
              "      <th>1</th>\n",
              "      <td>1</td>\n",
              "      <td>85</td>\n",
              "      <td>66</td>\n",
              "      <td>29</td>\n",
              "      <td>0</td>\n",
              "      <td>26.6</td>\n",
              "      <td>0.351</td>\n",
              "      <td>0</td>\n",
              "    </tr>\n",
              "    <tr>\n",
              "      <th>2</th>\n",
              "      <td>8</td>\n",
              "      <td>183</td>\n",
              "      <td>64</td>\n",
              "      <td>0</td>\n",
              "      <td>0</td>\n",
              "      <td>23.3</td>\n",
              "      <td>0.672</td>\n",
              "      <td>1</td>\n",
              "    </tr>\n",
              "    <tr>\n",
              "      <th>3</th>\n",
              "      <td>1</td>\n",
              "      <td>89</td>\n",
              "      <td>66</td>\n",
              "      <td>23</td>\n",
              "      <td>94</td>\n",
              "      <td>28.1</td>\n",
              "      <td>0.167</td>\n",
              "      <td>0</td>\n",
              "    </tr>\n",
              "    <tr>\n",
              "      <th>4</th>\n",
              "      <td>0</td>\n",
              "      <td>137</td>\n",
              "      <td>40</td>\n",
              "      <td>35</td>\n",
              "      <td>168</td>\n",
              "      <td>43.1</td>\n",
              "      <td>2.288</td>\n",
              "      <td>1</td>\n",
              "    </tr>\n",
              "  </tbody>\n",
              "</table>\n",
              "</div>\n",
              "      <button class=\"colab-df-convert\" onclick=\"convertToInteractive('df-c51e0be7-f72a-41ac-957f-bfadf3d22833')\"\n",
              "              title=\"Convert this dataframe to an interactive table.\"\n",
              "              style=\"display:none;\">\n",
              "        \n",
              "  <svg xmlns=\"http://www.w3.org/2000/svg\" height=\"24px\"viewBox=\"0 0 24 24\"\n",
              "       width=\"24px\">\n",
              "    <path d=\"M0 0h24v24H0V0z\" fill=\"none\"/>\n",
              "    <path d=\"M18.56 5.44l.94 2.06.94-2.06 2.06-.94-2.06-.94-.94-2.06-.94 2.06-2.06.94zm-11 1L8.5 8.5l.94-2.06 2.06-.94-2.06-.94L8.5 2.5l-.94 2.06-2.06.94zm10 10l.94 2.06.94-2.06 2.06-.94-2.06-.94-.94-2.06-.94 2.06-2.06.94z\"/><path d=\"M17.41 7.96l-1.37-1.37c-.4-.4-.92-.59-1.43-.59-.52 0-1.04.2-1.43.59L10.3 9.45l-7.72 7.72c-.78.78-.78 2.05 0 2.83L4 21.41c.39.39.9.59 1.41.59.51 0 1.02-.2 1.41-.59l7.78-7.78 2.81-2.81c.8-.78.8-2.07 0-2.86zM5.41 20L4 18.59l7.72-7.72 1.47 1.35L5.41 20z\"/>\n",
              "  </svg>\n",
              "      </button>\n",
              "      \n",
              "  <style>\n",
              "    .colab-df-container {\n",
              "      display:flex;\n",
              "      flex-wrap:wrap;\n",
              "      gap: 12px;\n",
              "    }\n",
              "\n",
              "    .colab-df-convert {\n",
              "      background-color: #E8F0FE;\n",
              "      border: none;\n",
              "      border-radius: 50%;\n",
              "      cursor: pointer;\n",
              "      display: none;\n",
              "      fill: #1967D2;\n",
              "      height: 32px;\n",
              "      padding: 0 0 0 0;\n",
              "      width: 32px;\n",
              "    }\n",
              "\n",
              "    .colab-df-convert:hover {\n",
              "      background-color: #E2EBFA;\n",
              "      box-shadow: 0px 1px 2px rgba(60, 64, 67, 0.3), 0px 1px 3px 1px rgba(60, 64, 67, 0.15);\n",
              "      fill: #174EA6;\n",
              "    }\n",
              "\n",
              "    [theme=dark] .colab-df-convert {\n",
              "      background-color: #3B4455;\n",
              "      fill: #D2E3FC;\n",
              "    }\n",
              "\n",
              "    [theme=dark] .colab-df-convert:hover {\n",
              "      background-color: #434B5C;\n",
              "      box-shadow: 0px 1px 3px 1px rgba(0, 0, 0, 0.15);\n",
              "      filter: drop-shadow(0px 1px 2px rgba(0, 0, 0, 0.3));\n",
              "      fill: #FFFFFF;\n",
              "    }\n",
              "  </style>\n",
              "\n",
              "      <script>\n",
              "        const buttonEl =\n",
              "          document.querySelector('#df-c51e0be7-f72a-41ac-957f-bfadf3d22833 button.colab-df-convert');\n",
              "        buttonEl.style.display =\n",
              "          google.colab.kernel.accessAllowed ? 'block' : 'none';\n",
              "\n",
              "        async function convertToInteractive(key) {\n",
              "          const element = document.querySelector('#df-c51e0be7-f72a-41ac-957f-bfadf3d22833');\n",
              "          const dataTable =\n",
              "            await google.colab.kernel.invokeFunction('convertToInteractive',\n",
              "                                                     [key], {});\n",
              "          if (!dataTable) return;\n",
              "\n",
              "          const docLinkHtml = 'Like what you see? Visit the ' +\n",
              "            '<a target=\"_blank\" href=https://colab.research.google.com/notebooks/data_table.ipynb>data table notebook</a>'\n",
              "            + ' to learn more about interactive tables.';\n",
              "          element.innerHTML = '';\n",
              "          dataTable['output_type'] = 'display_data';\n",
              "          await google.colab.output.renderOutput(dataTable, element);\n",
              "          const docLink = document.createElement('div');\n",
              "          docLink.innerHTML = docLinkHtml;\n",
              "          element.appendChild(docLink);\n",
              "        }\n",
              "      </script>\n",
              "    </div>\n",
              "  </div>\n",
              "  "
            ],
            "text/plain": [
              "  f1   f2  f3  f4   f5    f6     f7  target\n",
              "0  6  148  72  35    0  33.6  0.627       1\n",
              "1  1   85  66  29    0  26.6  0.351       0\n",
              "2  8  183  64   0    0  23.3  0.672       1\n",
              "3  1   89  66  23   94  28.1  0.167       0\n",
              "4  0  137  40  35  168  43.1  2.288       1"
            ]
          },
          "execution_count": 4,
          "metadata": {},
          "output_type": "execute_result"
        }
      ],
      "source": [
        "df.head()"
      ]
    },
    {
      "cell_type": "code",
      "execution_count": null,
      "metadata": {
        "colab": {
          "base_uri": "https://localhost:8080/",
          "height": 300
        },
        "id": "mbZZi9MGjfzD",
        "outputId": "2f0394f9-150e-4a03-e0f5-7bfea7bde273"
      },
      "outputs": [
        {
          "data": {
            "text/html": [
              "\n",
              "  <div id=\"df-20eecb47-1f9c-433c-91a1-9dfdf4d166ed\">\n",
              "    <div class=\"colab-df-container\">\n",
              "      <div>\n",
              "<style scoped>\n",
              "    .dataframe tbody tr th:only-of-type {\n",
              "        vertical-align: middle;\n",
              "    }\n",
              "\n",
              "    .dataframe tbody tr th {\n",
              "        vertical-align: top;\n",
              "    }\n",
              "\n",
              "    .dataframe thead th {\n",
              "        text-align: right;\n",
              "    }\n",
              "</style>\n",
              "<table border=\"1\" class=\"dataframe\">\n",
              "  <thead>\n",
              "    <tr style=\"text-align: right;\">\n",
              "      <th></th>\n",
              "      <th>f3</th>\n",
              "      <th>target</th>\n",
              "    </tr>\n",
              "  </thead>\n",
              "  <tbody>\n",
              "    <tr>\n",
              "      <th>count</th>\n",
              "      <td>766.000000</td>\n",
              "      <td>766.000000</td>\n",
              "    </tr>\n",
              "    <tr>\n",
              "      <th>mean</th>\n",
              "      <td>69.118799</td>\n",
              "      <td>0.349869</td>\n",
              "    </tr>\n",
              "    <tr>\n",
              "      <th>std</th>\n",
              "      <td>19.376901</td>\n",
              "      <td>0.477240</td>\n",
              "    </tr>\n",
              "    <tr>\n",
              "      <th>min</th>\n",
              "      <td>0.000000</td>\n",
              "      <td>0.000000</td>\n",
              "    </tr>\n",
              "    <tr>\n",
              "      <th>25%</th>\n",
              "      <td>62.500000</td>\n",
              "      <td>0.000000</td>\n",
              "    </tr>\n",
              "    <tr>\n",
              "      <th>50%</th>\n",
              "      <td>72.000000</td>\n",
              "      <td>0.000000</td>\n",
              "    </tr>\n",
              "    <tr>\n",
              "      <th>75%</th>\n",
              "      <td>80.000000</td>\n",
              "      <td>1.000000</td>\n",
              "    </tr>\n",
              "    <tr>\n",
              "      <th>max</th>\n",
              "      <td>122.000000</td>\n",
              "      <td>1.000000</td>\n",
              "    </tr>\n",
              "  </tbody>\n",
              "</table>\n",
              "</div>\n",
              "      <button class=\"colab-df-convert\" onclick=\"convertToInteractive('df-20eecb47-1f9c-433c-91a1-9dfdf4d166ed')\"\n",
              "              title=\"Convert this dataframe to an interactive table.\"\n",
              "              style=\"display:none;\">\n",
              "        \n",
              "  <svg xmlns=\"http://www.w3.org/2000/svg\" height=\"24px\"viewBox=\"0 0 24 24\"\n",
              "       width=\"24px\">\n",
              "    <path d=\"M0 0h24v24H0V0z\" fill=\"none\"/>\n",
              "    <path d=\"M18.56 5.44l.94 2.06.94-2.06 2.06-.94-2.06-.94-.94-2.06-.94 2.06-2.06.94zm-11 1L8.5 8.5l.94-2.06 2.06-.94-2.06-.94L8.5 2.5l-.94 2.06-2.06.94zm10 10l.94 2.06.94-2.06 2.06-.94-2.06-.94-.94-2.06-.94 2.06-2.06.94z\"/><path d=\"M17.41 7.96l-1.37-1.37c-.4-.4-.92-.59-1.43-.59-.52 0-1.04.2-1.43.59L10.3 9.45l-7.72 7.72c-.78.78-.78 2.05 0 2.83L4 21.41c.39.39.9.59 1.41.59.51 0 1.02-.2 1.41-.59l7.78-7.78 2.81-2.81c.8-.78.8-2.07 0-2.86zM5.41 20L4 18.59l7.72-7.72 1.47 1.35L5.41 20z\"/>\n",
              "  </svg>\n",
              "      </button>\n",
              "      \n",
              "  <style>\n",
              "    .colab-df-container {\n",
              "      display:flex;\n",
              "      flex-wrap:wrap;\n",
              "      gap: 12px;\n",
              "    }\n",
              "\n",
              "    .colab-df-convert {\n",
              "      background-color: #E8F0FE;\n",
              "      border: none;\n",
              "      border-radius: 50%;\n",
              "      cursor: pointer;\n",
              "      display: none;\n",
              "      fill: #1967D2;\n",
              "      height: 32px;\n",
              "      padding: 0 0 0 0;\n",
              "      width: 32px;\n",
              "    }\n",
              "\n",
              "    .colab-df-convert:hover {\n",
              "      background-color: #E2EBFA;\n",
              "      box-shadow: 0px 1px 2px rgba(60, 64, 67, 0.3), 0px 1px 3px 1px rgba(60, 64, 67, 0.15);\n",
              "      fill: #174EA6;\n",
              "    }\n",
              "\n",
              "    [theme=dark] .colab-df-convert {\n",
              "      background-color: #3B4455;\n",
              "      fill: #D2E3FC;\n",
              "    }\n",
              "\n",
              "    [theme=dark] .colab-df-convert:hover {\n",
              "      background-color: #434B5C;\n",
              "      box-shadow: 0px 1px 3px 1px rgba(0, 0, 0, 0.15);\n",
              "      filter: drop-shadow(0px 1px 2px rgba(0, 0, 0, 0.3));\n",
              "      fill: #FFFFFF;\n",
              "    }\n",
              "  </style>\n",
              "\n",
              "      <script>\n",
              "        const buttonEl =\n",
              "          document.querySelector('#df-20eecb47-1f9c-433c-91a1-9dfdf4d166ed button.colab-df-convert');\n",
              "        buttonEl.style.display =\n",
              "          google.colab.kernel.accessAllowed ? 'block' : 'none';\n",
              "\n",
              "        async function convertToInteractive(key) {\n",
              "          const element = document.querySelector('#df-20eecb47-1f9c-433c-91a1-9dfdf4d166ed');\n",
              "          const dataTable =\n",
              "            await google.colab.kernel.invokeFunction('convertToInteractive',\n",
              "                                                     [key], {});\n",
              "          if (!dataTable) return;\n",
              "\n",
              "          const docLinkHtml = 'Like what you see? Visit the ' +\n",
              "            '<a target=\"_blank\" href=https://colab.research.google.com/notebooks/data_table.ipynb>data table notebook</a>'\n",
              "            + ' to learn more about interactive tables.';\n",
              "          element.innerHTML = '';\n",
              "          dataTable['output_type'] = 'display_data';\n",
              "          await google.colab.output.renderOutput(dataTable, element);\n",
              "          const docLink = document.createElement('div');\n",
              "          docLink.innerHTML = docLinkHtml;\n",
              "          element.appendChild(docLink);\n",
              "        }\n",
              "      </script>\n",
              "    </div>\n",
              "  </div>\n",
              "  "
            ],
            "text/plain": [
              "               f3      target\n",
              "count  766.000000  766.000000\n",
              "mean    69.118799    0.349869\n",
              "std     19.376901    0.477240\n",
              "min      0.000000    0.000000\n",
              "25%     62.500000    0.000000\n",
              "50%     72.000000    0.000000\n",
              "75%     80.000000    1.000000\n",
              "max    122.000000    1.000000"
            ]
          },
          "execution_count": 5,
          "metadata": {},
          "output_type": "execute_result"
        }
      ],
      "source": [
        "df.describe()"
      ]
    },
    {
      "cell_type": "code",
      "execution_count": null,
      "metadata": {
        "colab": {
          "base_uri": "https://localhost:8080/"
        },
        "id": "Qs_bQLNemnRk",
        "outputId": "6673ae65-ae61-4a6e-80e2-880a127f2103"
      },
      "outputs": [
        {
          "data": {
            "text/plain": [
              "f1        object\n",
              "f2        object\n",
              "f3         int64\n",
              "f4        object\n",
              "f5        object\n",
              "f6        object\n",
              "f7        object\n",
              "target     int64\n",
              "dtype: object"
            ]
          },
          "execution_count": 6,
          "metadata": {},
          "output_type": "execute_result"
        }
      ],
      "source": [
        "df.dtypes"
      ]
    },
    {
      "cell_type": "code",
      "execution_count": null,
      "metadata": {
        "id": "0Sm2NL8Zm0nj"
      },
      "outputs": [],
      "source": [
        "df['f1'] = pd.to_numeric(df['f1'].str.replace(',',''), errors='coerce')\n",
        "df['f2'] = pd.to_numeric(df['f2'].str.replace(',',''), errors='coerce')\n",
        "df['f4'] = pd.to_numeric(df['f4'].str.replace(',',''), errors='coerce')\n",
        "df['f5'] = pd.to_numeric(df['f5'].str.replace(',',''), errors='coerce')\n",
        "df['f6'] = pd.to_numeric(df['f6'].str.replace(',',''), errors='coerce')\n",
        "df['f7'] = pd.to_numeric(df['f7'].str.replace(',',''), errors='coerce')\n",
        "\n",
        "df['f7'] = df['f7'].astype(float)\n",
        "df['f3'] = df['f3'].astype(float)"
      ]
    },
    {
      "cell_type": "code",
      "execution_count": null,
      "metadata": {
        "colab": {
          "base_uri": "https://localhost:8080/",
          "height": 300
        },
        "id": "iAHx4B-0mRJb",
        "outputId": "eb4edabf-3f19-44de-eb42-eaf01d5d27ab"
      },
      "outputs": [
        {
          "data": {
            "text/html": [
              "<style type=\"text/css\">\n",
              "#T_1ff97_row0_col0, #T_1ff97_row1_col1, #T_1ff97_row2_col2, #T_1ff97_row3_col3, #T_1ff97_row4_col4, #T_1ff97_row5_col5, #T_1ff97_row6_col6, #T_1ff97_row7_col7 {\n",
              "  background-color: #b40426;\n",
              "  color: #f1f1f1;\n",
              "}\n",
              "#T_1ff97_row0_col1, #T_1ff97_row2_col6 {\n",
              "  background-color: #506bda;\n",
              "  color: #f1f1f1;\n",
              "}\n",
              "#T_1ff97_row0_col2 {\n",
              "  background-color: #5a78e4;\n",
              "  color: #f1f1f1;\n",
              "}\n",
              "#T_1ff97_row0_col3, #T_1ff97_row0_col4, #T_1ff97_row0_col5, #T_1ff97_row0_col6, #T_1ff97_row2_col7, #T_1ff97_row3_col0, #T_1ff97_row3_col1, #T_1ff97_row6_col2 {\n",
              "  background-color: #3b4cc0;\n",
              "  color: #f1f1f1;\n",
              "}\n",
              "#T_1ff97_row0_col7, #T_1ff97_row5_col6 {\n",
              "  background-color: #6f92f3;\n",
              "  color: #f1f1f1;\n",
              "}\n",
              "#T_1ff97_row1_col0 {\n",
              "  background-color: #799cf8;\n",
              "  color: #f1f1f1;\n",
              "}\n",
              "#T_1ff97_row1_col2, #T_1ff97_row6_col7 {\n",
              "  background-color: #5e7de7;\n",
              "  color: #f1f1f1;\n",
              "}\n",
              "#T_1ff97_row1_col3 {\n",
              "  background-color: #6384eb;\n",
              "  color: #f1f1f1;\n",
              "}\n",
              "#T_1ff97_row1_col4 {\n",
              "  background-color: #bad0f8;\n",
              "  color: #000000;\n",
              "}\n",
              "#T_1ff97_row1_col5, #T_1ff97_row2_col0 {\n",
              "  background-color: #7da0f9;\n",
              "  color: #f1f1f1;\n",
              "}\n",
              "#T_1ff97_row1_col6 {\n",
              "  background-color: #6e90f2;\n",
              "  color: #f1f1f1;\n",
              "}\n",
              "#T_1ff97_row1_col7 {\n",
              "  background-color: #c9d7f0;\n",
              "  color: #000000;\n",
              "}\n",
              "#T_1ff97_row2_col1 {\n",
              "  background-color: #5977e3;\n",
              "  color: #f1f1f1;\n",
              "}\n",
              "#T_1ff97_row2_col3, #T_1ff97_row2_col5 {\n",
              "  background-color: #93b5fe;\n",
              "  color: #000000;\n",
              "}\n",
              "#T_1ff97_row2_col4 {\n",
              "  background-color: #6b8df0;\n",
              "  color: #f1f1f1;\n",
              "}\n",
              "#T_1ff97_row3_col2 {\n",
              "  background-color: #7295f4;\n",
              "  color: #f1f1f1;\n",
              "}\n",
              "#T_1ff97_row3_col4 {\n",
              "  background-color: #d7dce3;\n",
              "  color: #000000;\n",
              "}\n",
              "#T_1ff97_row3_col5 {\n",
              "  background-color: #bbd1f8;\n",
              "  color: #000000;\n",
              "}\n",
              "#T_1ff97_row3_col6, #T_1ff97_row4_col6 {\n",
              "  background-color: #7ea1fa;\n",
              "  color: #f1f1f1;\n",
              "}\n",
              "#T_1ff97_row3_col7 {\n",
              "  background-color: #3e51c5;\n",
              "  color: #f1f1f1;\n",
              "}\n",
              "#T_1ff97_row4_col0 {\n",
              "  background-color: #3c4ec2;\n",
              "  color: #f1f1f1;\n",
              "}\n",
              "#T_1ff97_row4_col1 {\n",
              "  background-color: #9bbcff;\n",
              "  color: #000000;\n",
              "}\n",
              "#T_1ff97_row4_col2, #T_1ff97_row6_col0 {\n",
              "  background-color: #4961d2;\n",
              "  color: #f1f1f1;\n",
              "}\n",
              "#T_1ff97_row4_col3 {\n",
              "  background-color: #d8dce2;\n",
              "  color: #000000;\n",
              "}\n",
              "#T_1ff97_row4_col5 {\n",
              "  background-color: #7699f6;\n",
              "  color: #f1f1f1;\n",
              "}\n",
              "#T_1ff97_row4_col7 {\n",
              "  background-color: #4f69d9;\n",
              "  color: #f1f1f1;\n",
              "}\n",
              "#T_1ff97_row5_col0 {\n",
              "  background-color: #5673e0;\n",
              "  color: #f1f1f1;\n",
              "}\n",
              "#T_1ff97_row5_col1 {\n",
              "  background-color: #7093f3;\n",
              "  color: #f1f1f1;\n",
              "}\n",
              "#T_1ff97_row5_col2 {\n",
              "  background-color: #8db0fe;\n",
              "  color: #000000;\n",
              "}\n",
              "#T_1ff97_row5_col3 {\n",
              "  background-color: #ccd9ed;\n",
              "  color: #000000;\n",
              "}\n",
              "#T_1ff97_row5_col4 {\n",
              "  background-color: #8fb1fe;\n",
              "  color: #000000;\n",
              "}\n",
              "#T_1ff97_row5_col7, #T_1ff97_row6_col3 {\n",
              "  background-color: #8badfd;\n",
              "  color: #000000;\n",
              "}\n",
              "#T_1ff97_row6_col1 {\n",
              "  background-color: #5470de;\n",
              "  color: #f1f1f1;\n",
              "}\n",
              "#T_1ff97_row6_col4 {\n",
              "  background-color: #89acfd;\n",
              "  color: #000000;\n",
              "}\n",
              "#T_1ff97_row6_col5 {\n",
              "  background-color: #6180e9;\n",
              "  color: #f1f1f1;\n",
              "}\n",
              "#T_1ff97_row7_col0, #T_1ff97_row7_col5 {\n",
              "  background-color: #97b8ff;\n",
              "  color: #000000;\n",
              "}\n",
              "#T_1ff97_row7_col1 {\n",
              "  background-color: #cad8ef;\n",
              "  color: #000000;\n",
              "}\n",
              "#T_1ff97_row7_col2 {\n",
              "  background-color: #4257c9;\n",
              "  color: #f1f1f1;\n",
              "}\n",
              "#T_1ff97_row7_col3 {\n",
              "  background-color: #688aef;\n",
              "  color: #f1f1f1;\n",
              "}\n",
              "#T_1ff97_row7_col4 {\n",
              "  background-color: #779af7;\n",
              "  color: #f1f1f1;\n",
              "}\n",
              "#T_1ff97_row7_col6 {\n",
              "  background-color: #7a9df8;\n",
              "  color: #f1f1f1;\n",
              "}\n",
              "</style>\n",
              "<table id=\"T_1ff97\" class=\"dataframe\">\n",
              "  <thead>\n",
              "    <tr>\n",
              "      <th class=\"blank level0\" >&nbsp;</th>\n",
              "      <th id=\"T_1ff97_level0_col0\" class=\"col_heading level0 col0\" >f1</th>\n",
              "      <th id=\"T_1ff97_level0_col1\" class=\"col_heading level0 col1\" >f2</th>\n",
              "      <th id=\"T_1ff97_level0_col2\" class=\"col_heading level0 col2\" >f3</th>\n",
              "      <th id=\"T_1ff97_level0_col3\" class=\"col_heading level0 col3\" >f4</th>\n",
              "      <th id=\"T_1ff97_level0_col4\" class=\"col_heading level0 col4\" >f5</th>\n",
              "      <th id=\"T_1ff97_level0_col5\" class=\"col_heading level0 col5\" >f6</th>\n",
              "      <th id=\"T_1ff97_level0_col6\" class=\"col_heading level0 col6\" >f7</th>\n",
              "      <th id=\"T_1ff97_level0_col7\" class=\"col_heading level0 col7\" >target</th>\n",
              "    </tr>\n",
              "  </thead>\n",
              "  <tbody>\n",
              "    <tr>\n",
              "      <th id=\"T_1ff97_level0_row0\" class=\"row_heading level0 row0\" >f1</th>\n",
              "      <td id=\"T_1ff97_row0_col0\" class=\"data row0 col0\" >1.000000</td>\n",
              "      <td id=\"T_1ff97_row0_col1\" class=\"data row0 col1\" >0.125324</td>\n",
              "      <td id=\"T_1ff97_row0_col2\" class=\"data row0 col2\" >0.140992</td>\n",
              "      <td id=\"T_1ff97_row0_col3\" class=\"data row0 col3\" >-0.082411</td>\n",
              "      <td id=\"T_1ff97_row0_col4\" class=\"data row0 col4\" >-0.075453</td>\n",
              "      <td id=\"T_1ff97_row0_col5\" class=\"data row0 col5\" >0.017251</td>\n",
              "      <td id=\"T_1ff97_row0_col6\" class=\"data row0 col6\" >-0.031238</td>\n",
              "      <td id=\"T_1ff97_row0_col7\" class=\"data row0 col7\" >0.221289</td>\n",
              "    </tr>\n",
              "    <tr>\n",
              "      <th id=\"T_1ff97_level0_row1\" class=\"row_heading level0 row1\" >f2</th>\n",
              "      <td id=\"T_1ff97_row1_col0\" class=\"data row1 col0\" >0.125324</td>\n",
              "      <td id=\"T_1ff97_row1_col1\" class=\"data row1 col1\" >1.000000</td>\n",
              "      <td id=\"T_1ff97_row1_col2\" class=\"data row1 col2\" >0.151819</td>\n",
              "      <td id=\"T_1ff97_row1_col3\" class=\"data row1 col3\" >0.057746</td>\n",
              "      <td id=\"T_1ff97_row1_col4\" class=\"data row1 col4\" >0.332530</td>\n",
              "      <td id=\"T_1ff97_row1_col5\" class=\"data row1 col5\" >0.218293</td>\n",
              "      <td id=\"T_1ff97_row1_col6\" class=\"data row1 col6\" >0.137758</td>\n",
              "      <td id=\"T_1ff97_row1_col7\" class=\"data row1 col7\" >0.464187</td>\n",
              "    </tr>\n",
              "    <tr>\n",
              "      <th id=\"T_1ff97_level0_row2\" class=\"row_heading level0 row2\" >f3</th>\n",
              "      <td id=\"T_1ff97_row2_col0\" class=\"data row2 col0\" >0.140992</td>\n",
              "      <td id=\"T_1ff97_row2_col1\" class=\"data row2 col1\" >0.151819</td>\n",
              "      <td id=\"T_1ff97_row2_col2\" class=\"data row2 col2\" >1.000000</td>\n",
              "      <td id=\"T_1ff97_row2_col3\" class=\"data row2 col3\" >0.207170</td>\n",
              "      <td id=\"T_1ff97_row2_col4\" class=\"data row2 col4\" >0.088694</td>\n",
              "      <td id=\"T_1ff97_row2_col5\" class=\"data row2 col5\" >0.281555</td>\n",
              "      <td id=\"T_1ff97_row2_col6\" class=\"data row2 col6\" >0.041547</td>\n",
              "      <td id=\"T_1ff97_row2_col7\" class=\"data row2 col7\" >0.064623</td>\n",
              "    </tr>\n",
              "    <tr>\n",
              "      <th id=\"T_1ff97_level0_row3\" class=\"row_heading level0 row3\" >f4</th>\n",
              "      <td id=\"T_1ff97_row3_col0\" class=\"data row3 col0\" >-0.082411</td>\n",
              "      <td id=\"T_1ff97_row3_col1\" class=\"data row3 col1\" >0.057746</td>\n",
              "      <td id=\"T_1ff97_row3_col2\" class=\"data row3 col2\" >0.207170</td>\n",
              "      <td id=\"T_1ff97_row3_col3\" class=\"data row3 col3\" >1.000000</td>\n",
              "      <td id=\"T_1ff97_row3_col4\" class=\"data row3 col4\" >0.438003</td>\n",
              "      <td id=\"T_1ff97_row3_col5\" class=\"data row3 col5\" >0.393701</td>\n",
              "      <td id=\"T_1ff97_row3_col6\" class=\"data row3 col6\" >0.182354</td>\n",
              "      <td id=\"T_1ff97_row3_col7\" class=\"data row3 col7\" >0.078258</td>\n",
              "    </tr>\n",
              "    <tr>\n",
              "      <th id=\"T_1ff97_level0_row4\" class=\"row_heading level0 row4\" >f5</th>\n",
              "      <td id=\"T_1ff97_row4_col0\" class=\"data row4 col0\" >-0.075453</td>\n",
              "      <td id=\"T_1ff97_row4_col1\" class=\"data row4 col1\" >0.332530</td>\n",
              "      <td id=\"T_1ff97_row4_col2\" class=\"data row4 col2\" >0.088694</td>\n",
              "      <td id=\"T_1ff97_row4_col3\" class=\"data row4 col3\" >0.438003</td>\n",
              "      <td id=\"T_1ff97_row4_col4\" class=\"data row4 col4\" >1.000000</td>\n",
              "      <td id=\"T_1ff97_row4_col5\" class=\"data row4 col5\" >0.198111</td>\n",
              "      <td id=\"T_1ff97_row4_col6\" class=\"data row4 col6\" >0.184493</td>\n",
              "      <td id=\"T_1ff97_row4_col7\" class=\"data row4 col7\" >0.128934</td>\n",
              "    </tr>\n",
              "    <tr>\n",
              "      <th id=\"T_1ff97_level0_row5\" class=\"row_heading level0 row5\" >f6</th>\n",
              "      <td id=\"T_1ff97_row5_col0\" class=\"data row5 col0\" >0.017251</td>\n",
              "      <td id=\"T_1ff97_row5_col1\" class=\"data row5 col1\" >0.218293</td>\n",
              "      <td id=\"T_1ff97_row5_col2\" class=\"data row5 col2\" >0.281555</td>\n",
              "      <td id=\"T_1ff97_row5_col3\" class=\"data row5 col3\" >0.393701</td>\n",
              "      <td id=\"T_1ff97_row5_col4\" class=\"data row5 col4\" >0.198111</td>\n",
              "      <td id=\"T_1ff97_row5_col5\" class=\"data row5 col5\" >1.000000</td>\n",
              "      <td id=\"T_1ff97_row5_col6\" class=\"data row5 col6\" >0.140034</td>\n",
              "      <td id=\"T_1ff97_row5_col7\" class=\"data row5 col7\" >0.292533</td>\n",
              "    </tr>\n",
              "    <tr>\n",
              "      <th id=\"T_1ff97_level0_row6\" class=\"row_heading level0 row6\" >f7</th>\n",
              "      <td id=\"T_1ff97_row6_col0\" class=\"data row6 col0\" >-0.031238</td>\n",
              "      <td id=\"T_1ff97_row6_col1\" class=\"data row6 col1\" >0.137758</td>\n",
              "      <td id=\"T_1ff97_row6_col2\" class=\"data row6 col2\" >0.041547</td>\n",
              "      <td id=\"T_1ff97_row6_col3\" class=\"data row6 col3\" >0.182354</td>\n",
              "      <td id=\"T_1ff97_row6_col4\" class=\"data row6 col4\" >0.184493</td>\n",
              "      <td id=\"T_1ff97_row6_col5\" class=\"data row6 col5\" >0.140034</td>\n",
              "      <td id=\"T_1ff97_row6_col6\" class=\"data row6 col6\" >1.000000</td>\n",
              "      <td id=\"T_1ff97_row6_col7\" class=\"data row6 col7\" >0.173697</td>\n",
              "    </tr>\n",
              "    <tr>\n",
              "      <th id=\"T_1ff97_level0_row7\" class=\"row_heading level0 row7\" >target</th>\n",
              "      <td id=\"T_1ff97_row7_col0\" class=\"data row7 col0\" >0.221289</td>\n",
              "      <td id=\"T_1ff97_row7_col1\" class=\"data row7 col1\" >0.464187</td>\n",
              "      <td id=\"T_1ff97_row7_col2\" class=\"data row7 col2\" >0.064623</td>\n",
              "      <td id=\"T_1ff97_row7_col3\" class=\"data row7 col3\" >0.078258</td>\n",
              "      <td id=\"T_1ff97_row7_col4\" class=\"data row7 col4\" >0.128934</td>\n",
              "      <td id=\"T_1ff97_row7_col5\" class=\"data row7 col5\" >0.292533</td>\n",
              "      <td id=\"T_1ff97_row7_col6\" class=\"data row7 col6\" >0.173697</td>\n",
              "      <td id=\"T_1ff97_row7_col7\" class=\"data row7 col7\" >1.000000</td>\n",
              "    </tr>\n",
              "  </tbody>\n",
              "</table>\n"
            ],
            "text/plain": [
              "<pandas.io.formats.style.Styler at 0x7f179caf5fa0>"
            ]
          },
          "execution_count": 8,
          "metadata": {},
          "output_type": "execute_result"
        }
      ],
      "source": [
        "import seaborn as sns\n",
        "\n",
        "corr_matrix = df.corr()\n",
        "corr_matrix.style.background_gradient(cmap='coolwarm')"
      ]
    },
    {
      "cell_type": "code",
      "execution_count": null,
      "metadata": {
        "colab": {
          "base_uri": "https://localhost:8080/",
          "height": 287
        },
        "id": "o-ryN9kELaWQ",
        "outputId": "697a0d2c-706d-4d17-e0f6-1077c897b875"
      },
      "outputs": [
        {
          "data": {
            "text/plain": [
              "<Axes: >"
            ]
          },
          "execution_count": 9,
          "metadata": {},
          "output_type": "execute_result"
        },
        {
          "data": {
            "image/png": "[encoded data removed]",
            "text/plain": [
              "<Figure size 432x288 with 2 Axes>"
            ]
          },
          "metadata": {},
          "output_type": "display_data"
        }
      ],
      "source": [
        "sns.heatmap(df.corr())"
      ]
    },
    {
      "cell_type": "code",
      "execution_count": null,
      "metadata": {
        "colab": {
          "base_uri": "https://localhost:8080/"
        },
        "id": "FzrRZV_LFv_Q",
        "outputId": "0ec59a93-3418-4fac-c68a-dd0f0e0fa438"
      },
      "outputs": [
        {
          "data": {
            "text/plain": [
              "f1        0\n",
              "f2        0\n",
              "f3        0\n",
              "f4        0\n",
              "f5        0\n",
              "f6        0\n",
              "f7        0\n",
              "target    0\n",
              "dtype: int64"
            ]
          },
          "execution_count": 22,
          "metadata": {},
          "output_type": "execute_result"
        }
      ],
      "source": [
        "df = df.dropna()\n",
        "df.isnull().sum(axis = 0)"
      ]
    },
    {
      "cell_type": "code",
      "execution_count": null,
      "metadata": {
        "colab": {
          "base_uri": "https://localhost:8080/",
          "height": 242
        },
        "id": "qXmChzjJj358",
        "outputId": "2befdbee-fccc-44ef-f124-64a4ffe0b954"
      },
      "outputs": [
        {
          "ename": "NameError",
          "evalue": "ignored",
          "output_type": "error",
          "traceback": [
            "\u001b[0;31m---------------------------------------------------------------------------\u001b[0m",
            "\u001b[0;31mNameError\u001b[0m                                 Traceback (most recent call last)",
            "\u001b[0;32m<ipython-input-23-ba79fb6a31be>\u001b[0m in \u001b[0;36m<module>\u001b[0;34m\u001b[0m\n\u001b[0;32m----> 1\u001b[0;31m \u001b[0mrdf\u001b[0m\u001b[0;34m[\u001b[0m\u001b[0;34m'f1'\u001b[0m\u001b[0;34m]\u001b[0m\u001b[0;34m=\u001b[0m \u001b[0mStandardScaler\u001b[0m\u001b[0;34m(\u001b[0m\u001b[0;34m)\u001b[0m\u001b[0;34m.\u001b[0m\u001b[0mfit_transform\u001b[0m\u001b[0;34m(\u001b[0m\u001b[0mdf\u001b[0m\u001b[0;34m[\u001b[0m\u001b[0;34m'f1'\u001b[0m\u001b[0;34m]\u001b[0m\u001b[0;34m.\u001b[0m\u001b[0mvalues\u001b[0m\u001b[0;34m.\u001b[0m\u001b[0mreshape\u001b[0m\u001b[0;34m(\u001b[0m\u001b[0;34m-\u001b[0m\u001b[0;36m1\u001b[0m\u001b[0;34m,\u001b[0m\u001b[0;36m1\u001b[0m\u001b[0;34m)\u001b[0m\u001b[0;34m)\u001b[0m\u001b[0;34m\u001b[0m\u001b[0;34m\u001b[0m\u001b[0m\n\u001b[0m\u001b[1;32m      2\u001b[0m \u001b[0mdf\u001b[0m\u001b[0;34m[\u001b[0m\u001b[0;34m'f2'\u001b[0m\u001b[0;34m]\u001b[0m\u001b[0;34m=\u001b[0m \u001b[0mStandardScaler\u001b[0m\u001b[0;34m(\u001b[0m\u001b[0;34m)\u001b[0m\u001b[0;34m.\u001b[0m\u001b[0mfit_transform\u001b[0m\u001b[0;34m(\u001b[0m\u001b[0mdf\u001b[0m\u001b[0;34m[\u001b[0m\u001b[0;34m'f2'\u001b[0m\u001b[0;34m]\u001b[0m\u001b[0;34m.\u001b[0m\u001b[0mvalues\u001b[0m\u001b[0;34m.\u001b[0m\u001b[0mreshape\u001b[0m\u001b[0;34m(\u001b[0m\u001b[0;34m-\u001b[0m\u001b[0;36m1\u001b[0m\u001b[0;34m,\u001b[0m\u001b[0;36m1\u001b[0m\u001b[0;34m)\u001b[0m\u001b[0;34m)\u001b[0m\u001b[0;34m\u001b[0m\u001b[0;34m\u001b[0m\u001b[0m\n\u001b[1;32m      3\u001b[0m \u001b[0mdf\u001b[0m\u001b[0;34m[\u001b[0m\u001b[0;34m'f3'\u001b[0m\u001b[0;34m]\u001b[0m\u001b[0;34m=\u001b[0m \u001b[0mStandardScaler\u001b[0m\u001b[0;34m(\u001b[0m\u001b[0;34m)\u001b[0m\u001b[0;34m.\u001b[0m\u001b[0mfit_transform\u001b[0m\u001b[0;34m(\u001b[0m\u001b[0mdf\u001b[0m\u001b[0;34m[\u001b[0m\u001b[0;34m'f3'\u001b[0m\u001b[0;34m]\u001b[0m\u001b[0;34m.\u001b[0m\u001b[0mvalues\u001b[0m\u001b[0;34m.\u001b[0m\u001b[0mreshape\u001b[0m\u001b[0;34m(\u001b[0m\u001b[0;34m-\u001b[0m\u001b[0;36m1\u001b[0m\u001b[0;34m,\u001b[0m\u001b[0;36m1\u001b[0m\u001b[0;34m)\u001b[0m\u001b[0;34m)\u001b[0m\u001b[0;34m\u001b[0m\u001b[0;34m\u001b[0m\u001b[0m\n\u001b[1;32m      4\u001b[0m \u001b[0mdf\u001b[0m\u001b[0;34m[\u001b[0m\u001b[0;34m'f4'\u001b[0m\u001b[0;34m]\u001b[0m\u001b[0;34m=\u001b[0m \u001b[0mStandardScaler\u001b[0m\u001b[0;34m(\u001b[0m\u001b[0;34m)\u001b[0m\u001b[0;34m.\u001b[0m\u001b[0mfit_transform\u001b[0m\u001b[0;34m(\u001b[0m\u001b[0mdf\u001b[0m\u001b[0;34m[\u001b[0m\u001b[0;34m'f4'\u001b[0m\u001b[0;34m]\u001b[0m\u001b[0;34m.\u001b[0m\u001b[0mvalues\u001b[0m\u001b[0;34m.\u001b[0m\u001b[0mreshape\u001b[0m\u001b[0;34m(\u001b[0m\u001b[0;34m-\u001b[0m\u001b[0;36m1\u001b[0m\u001b[0;34m,\u001b[0m\u001b[0;36m1\u001b[0m\u001b[0;34m)\u001b[0m\u001b[0;34m)\u001b[0m\u001b[0;34m\u001b[0m\u001b[0;34m\u001b[0m\u001b[0m\n\u001b[1;32m      5\u001b[0m \u001b[0mdf\u001b[0m\u001b[0;34m[\u001b[0m\u001b[0;34m'f5'\u001b[0m\u001b[0;34m]\u001b[0m\u001b[0;34m=\u001b[0m \u001b[0mStandardScaler\u001b[0m\u001b[0;34m(\u001b[0m\u001b[0;34m)\u001b[0m\u001b[0;34m.\u001b[0m\u001b[0mfit_transform\u001b[0m\u001b[0;34m(\u001b[0m\u001b[0mdf\u001b[0m\u001b[0;34m[\u001b[0m\u001b[0;34m'f5'\u001b[0m\u001b[0;34m]\u001b[0m\u001b[0;34m.\u001b[0m\u001b[0mvalues\u001b[0m\u001b[0;34m.\u001b[0m\u001b[0mreshape\u001b[0m\u001b[0;34m(\u001b[0m\u001b[0;34m-\u001b[0m\u001b[0;36m1\u001b[0m\u001b[0;34m,\u001b[0m\u001b[0;36m1\u001b[0m\u001b[0;34m)\u001b[0m\u001b[0;34m)\u001b[0m\u001b[0;34m\u001b[0m\u001b[0;34m\u001b[0m\u001b[0m\n",
            "\u001b[0;31mNameError\u001b[0m: name 'rdf' is not defined"
          ]
        }
      ],
      "source": [
        "df['f1']= StandardScaler().fit_transform(df['f1'].values.reshape(-1,1))\n",
        "df['f2']= StandardScaler().fit_transform(df['f2'].values.reshape(-1,1))\n",
        "df['f3']= StandardScaler().fit_transform(df['f3'].values.reshape(-1,1))\n",
        "df['f4']= StandardScaler().fit_transform(df['f4'].values.reshape(-1,1))\n",
        "df['f5']= StandardScaler().fit_transform(df['f5'].values.reshape(-1,1))\n",
        "df['f6']= StandardScaler().fit_transform(df['f6'].values.reshape(-1,1))\n",
        "df['f7']= StandardScaler().fit_transform(df['f7'].values.reshape(-1,1))"
      ]
    },
    {
      "cell_type": "code",
      "execution_count": null,
      "metadata": {
        "id": "7O3srdFJjoCU"
      },
      "outputs": [],
      "source": [
        "\n",
        "np.random.seed(1234)\n",
        "X = df.drop(labels='target',axis=1)\n",
        "Y = df.target"
      ]
    },
    {
      "cell_type": "code",
      "execution_count": null,
      "metadata": {
        "colab": {
          "base_uri": "https://localhost:8080/"
        },
        "id": "p4J65xiPltsL",
        "outputId": "32aa1f09-40ab-45c9-d272-58ebd401f23f"
      },
      "outputs": [
        {
          "name": "stdout",
          "output_type": "stream",
          "text": [
            "(608, 7)\n"
          ]
        }
      ],
      "source": [
        "\n",
        "x_train,x_test,y_train,y_test = train_test_split( X, Y, test_size=0.2 )\n",
        "print(x_train.shape)\n",
        "x_train = np.asarray(x_train).astype(np.float32)\n",
        "y_train = np.asarray(y_train).astype(np.float32)\n"
      ]
    },
    {
      "cell_type": "code",
      "execution_count": null,
      "metadata": {
        "id": "ZErIHBMhDC3f"
      },
      "outputs": [],
      "source": [
        "model = tf.keras.Sequential([\n",
        "    tf.keras.layers.Flatten(input_shape=[7]),\n",
        "    tf.keras.layers.Dense(64,activation='relu'),\n",
        "    tf.keras.layers.Dense(64,activation='relu'),\n",
        "    tf.keras.layers.Dense(1,activation='softmax')\n",
        "])\n",
        "\n",
        "model.compile(loss='binary_crossentropy',\n",
        "              optimizer=tf.keras.optimizers.Adam(learning_rate=0.00000001),\n",
        "              metrics=['accuracy'])"
      ]
    },
    {
      "cell_type": "code",
      "execution_count": null,
      "metadata": {
        "colab": {
          "base_uri": "https://localhost:8080/"
        },
        "id": "NDvXm764E1i7",
        "outputId": "1edade60-e7c9-4e3f-daf1-cf8427214698"
      },
      "outputs": [
        {
          "name": "stdout",
          "output_type": "stream",
          "text": [
            "Model: \"sequential_2\"\n",
            "_________________________________________________________________\n",
            " Layer (type)                Output Shape              Param #   \n",
            "=================================================================\n",
            " flatten_2 (Flatten)         (None, 7)                 0         \n",
            "                                                                 \n",
            " dense_6 (Dense)             (None, 64)                512       \n",
            "                                                                 \n",
            " dense_7 (Dense)             (None, 64)                4160      \n",
            "                                                                 \n",
            " dense_8 (Dense)             (None, 1)                 65        \n",
            "                                                                 \n",
            "=================================================================\n",
            "Total params: 4,737\n",
            "Trainable params: 4,737\n",
            "Non-trainable params: 0\n",
            "_________________________________________________________________\n"
          ]
        }
      ],
      "source": [
        "model.summary()"
      ]
    },
    {
      "cell_type": "code",
      "execution_count": null,
      "metadata": {
        "colab": {
          "base_uri": "https://localhost:8080/"
        },
        "id": "IDts06-RE4Bl",
        "outputId": "85842262-ccd0-4d81-accf-259de161165a"
      },
      "outputs": [
        {
          "name": "stdout",
          "output_type": "stream",
          "text": [
            "Train acc :0.3486842215061188\n",
            "Accuracy on test set: 0.3552631437778473\n"
          ]
        }
      ],
      "source": [
        "results = model.fit(x_train, y_train, \n",
        "                    batch_size = 5,\n",
        "                    epochs=5,verbose=0,\n",
        "                    validation_data=(x_test, y_test))\n",
        "\n",
        "print(f\"Train acc :{model.evaluate(x_train, y_train, verbose=0)[1]}\")\n",
        "score = model.evaluate(x_test, y_test, verbose=0)\n",
        "print(f\"Accuracy on test set: {score[1]}\")"
      ]
    },
    {
      "cell_type": "markdown",
      "metadata": {
        "id": "gUqFEZZJlSrE"
      },
      "source": [
        "#Tuning Dropout \n",
        "\n",
        "---\n",
        "\n"
      ]
    },
    {
      "cell_type": "code",
      "execution_count": null,
      "metadata": {
        "colab": {
          "base_uri": "https://localhost:8080/"
        },
        "id": "nQ53CF1MlRDg",
        "outputId": "cfb9b711-f177-4871-c74e-8860bf989afe"
      },
      "outputs": [
        {
          "name": "stdout",
          "output_type": "stream",
          "text": [
            "\n",
            "\n",
            "Compiling and Training model for dropout value 0.25 \n",
            "\n",
            "Epoch 1/10\n",
            "608/608 [==============================] - 3s 3ms/step - loss: 0.6636 - accuracy: 0.6595 - val_loss: 0.6354 - val_accuracy: 0.6513\n",
            "Epoch 2/10\n",
            "608/608 [==============================] - 2s 3ms/step - loss: 0.6239 - accuracy: 0.6678 - val_loss: 0.6045 - val_accuracy: 0.6776\n",
            "Epoch 3/10\n",
            "608/608 [==============================] - 1s 2ms/step - loss: 0.5950 - accuracy: 0.7204 - val_loss: 0.5814 - val_accuracy: 0.6908\n",
            "Epoch 4/10\n",
            "608/608 [==============================] - 1s 2ms/step - loss: 0.5724 - accuracy: 0.7237 - val_loss: 0.5638 - val_accuracy: 0.7039\n",
            "Epoch 5/10\n",
            "608/608 [==============================] - 1s 2ms/step - loss: 0.5501 - accuracy: 0.7368 - val_loss: 0.5495 - val_accuracy: 0.7237\n",
            "Epoch 6/10\n",
            "608/608 [==============================] - 1s 2ms/step - loss: 0.5374 - accuracy: 0.7533 - val_loss: 0.5389 - val_accuracy: 0.7434\n",
            "Epoch 7/10\n",
            "608/608 [==============================] - 1s 2ms/step - loss: 0.5262 - accuracy: 0.7664 - val_loss: 0.5304 - val_accuracy: 0.7434\n",
            "Epoch 8/10\n",
            "608/608 [==============================] - 1s 2ms/step - loss: 0.5063 - accuracy: 0.7681 - val_loss: 0.5241 - val_accuracy: 0.7434\n",
            "Epoch 9/10\n",
            "608/608 [==============================] - 1s 2ms/step - loss: 0.5013 - accuracy: 0.7697 - val_loss: 0.5195 - val_accuracy: 0.7434\n",
            "Epoch 10/10\n",
            "608/608 [==============================] - 2s 3ms/step - loss: 0.5064 - accuracy: 0.7615 - val_loss: 0.5162 - val_accuracy: 0.7500\n",
            "Train acc :0.7861841917037964\n",
            "Accuracy on test set: 0.75\n",
            "\n",
            "\n",
            "Compiling and Training model for dropout value 0.5 \n",
            "\n",
            "Epoch 1/10\n",
            "608/608 [==============================] - 3s 3ms/step - loss: 0.6771 - accuracy: 0.6201 - val_loss: 0.6534 - val_accuracy: 0.5855\n",
            "Epoch 2/10\n",
            "608/608 [==============================] - 1s 2ms/step - loss: 0.6687 - accuracy: 0.6234 - val_loss: 0.6335 - val_accuracy: 0.6447\n",
            "Epoch 3/10\n",
            "608/608 [==============================] - 1s 2ms/step - loss: 0.6278 - accuracy: 0.6661 - val_loss: 0.6195 - val_accuracy: 0.6579\n",
            "Epoch 4/10\n",
            "608/608 [==============================] - 1s 2ms/step - loss: 0.6319 - accuracy: 0.6612 - val_loss: 0.6075 - val_accuracy: 0.6842\n",
            "Epoch 5/10\n",
            "608/608 [==============================] - 1s 2ms/step - loss: 0.6023 - accuracy: 0.6842 - val_loss: 0.5977 - val_accuracy: 0.6842\n",
            "Epoch 6/10\n",
            "608/608 [==============================] - 1s 2ms/step - loss: 0.5934 - accuracy: 0.7089 - val_loss: 0.5874 - val_accuracy: 0.6842\n",
            "Epoch 7/10\n",
            "608/608 [==============================] - 3s 4ms/step - loss: 0.5868 - accuracy: 0.7138 - val_loss: 0.5787 - val_accuracy: 0.6908\n",
            "Epoch 8/10\n",
            "608/608 [==============================] - 2s 3ms/step - loss: 0.5746 - accuracy: 0.7089 - val_loss: 0.5716 - val_accuracy: 0.7039\n",
            "Epoch 9/10\n",
            "608/608 [==============================] - 1s 2ms/step - loss: 0.5755 - accuracy: 0.7171 - val_loss: 0.5653 - val_accuracy: 0.7105\n",
            "Epoch 10/10\n",
            "608/608 [==============================] - 1s 2ms/step - loss: 0.5634 - accuracy: 0.7368 - val_loss: 0.5593 - val_accuracy: 0.7105\n",
            "Train acc :0.7582237124443054\n",
            "Accuracy on test set: 0.7105262875556946\n",
            "\n",
            "\n",
            "Compiling and Training model for dropout value 0.75 \n",
            "\n",
            "Epoch 1/10\n",
            "608/608 [==============================] - 2s 2ms/step - loss: 0.7713 - accuracy: 0.5378 - val_loss: 0.6437 - val_accuracy: 0.6908\n",
            "Epoch 2/10\n",
            "608/608 [==============================] - 1s 2ms/step - loss: 0.7352 - accuracy: 0.6053 - val_loss: 0.6276 - val_accuracy: 0.6908\n",
            "Epoch 3/10\n",
            "608/608 [==============================] - 1s 2ms/step - loss: 0.7427 - accuracy: 0.5987 - val_loss: 0.6183 - val_accuracy: 0.6842\n",
            "Epoch 4/10\n",
            "608/608 [==============================] - 2s 3ms/step - loss: 0.6827 - accuracy: 0.6414 - val_loss: 0.6139 - val_accuracy: 0.6645\n",
            "Epoch 5/10\n",
            "608/608 [==============================] - 2s 3ms/step - loss: 0.7064 - accuracy: 0.6102 - val_loss: 0.6094 - val_accuracy: 0.6974\n",
            "Epoch 6/10\n",
            "608/608 [==============================] - 1s 2ms/step - loss: 0.6445 - accuracy: 0.6414 - val_loss: 0.6040 - val_accuracy: 0.6974\n",
            "Epoch 7/10\n",
            "608/608 [==============================] - 1s 2ms/step - loss: 0.6025 - accuracy: 0.7023 - val_loss: 0.5966 - val_accuracy: 0.6908\n",
            "Epoch 8/10\n",
            "608/608 [==============================] - 1s 2ms/step - loss: 0.6548 - accuracy: 0.6628 - val_loss: 0.5959 - val_accuracy: 0.6974\n",
            "Epoch 9/10\n",
            "608/608 [==============================] - 1s 2ms/step - loss: 0.6311 - accuracy: 0.6974 - val_loss: 0.5925 - val_accuracy: 0.6908\n",
            "Epoch 10/10\n",
            "608/608 [==============================] - 2s 3ms/step - loss: 0.6220 - accuracy: 0.6908 - val_loss: 0.5899 - val_accuracy: 0.6974\n",
            "Train acc :0.7302631735801697\n",
            "Accuracy on test set: 0.6973684430122375\n"
          ]
        }
      ],
      "source": [
        "def get_model(drop):\n",
        "  model = tf.keras.Sequential([\n",
        "      tf.keras.layers.Flatten(input_shape=[7]),\n",
        "      tf.keras.layers.Dense(64,activation='relu'),\n",
        "      tf.keras.layers.Dropout(drop),\n",
        "      tf.keras.layers.Dense(64,activation='relu'),\n",
        "      tf.keras.layers.Dropout(drop),\n",
        "      tf.keras.layers.Dense(1,activation='sigmoid')\n",
        "  ])\n",
        "  return model\n",
        "\n",
        "DropoutParameter = [0.25,0.5,0.75] # list of dropoout value to try\n",
        "for i in range(len(DropoutParameter)):\n",
        "  model = get_model(DropoutParameter[i])\n",
        "  print(f\"\\n\\nCompiling and Training model for dropout value {DropoutParameter[i]} \\n\")\n",
        "  model.compile(loss='binary_crossentropy',optimizer=tf.keras.optimizers.SGD(learning_rate=0.001),metrics=['accuracy'])\n",
        "  results = model.fit(x_train, y_train, batch_size = 1,epochs=10,verbose=1,validation_data=(x_test, y_test))\n",
        "  print(f\"Train acc :{model.evaluate(x_train, y_train, verbose=0)[1]}\")\n",
        "  score = model.evaluate(x_test, y_test, verbose=0)\n",
        "  print(f\"Accuracy on test set: {score[1]}\")"
      ]
    },
    {
      "cell_type": "markdown",
      "metadata": {
        "id": "lJ_MHSMHDos0"
      },
      "source": [
        "#"
      ]
    },
    {
      "cell_type": "markdown",
      "metadata": {
        "id": "QkHosNXZHIUW"
      },
      "source": [
        "#Changing Optimizer"
      ]
    },
    {
      "cell_type": "markdown",
      "metadata": {
        "id": "QXn3tRliCOBw"
      },
      "source": [
        "#SGD"
      ]
    },
    {
      "cell_type": "code",
      "execution_count": null,
      "metadata": {
        "colab": {
          "base_uri": "https://localhost:8080/"
        },
        "id": "6iY0r9KmlRxd",
        "outputId": "a691b237-c389-4209-a80b-5faa3a41ba62"
      },
      "outputs": [
        {
          "name": "stdout",
          "output_type": "stream",
          "text": [
            "\n",
            "\n",
            "Compiling and Training model for SGD  and dropout value 0.25 \n",
            "\n",
            "Epoch 1/10\n",
            "608/608 [==============================] - 2s 2ms/step - loss: 0.6492 - accuracy: 0.6234 - val_loss: 0.6250 - val_accuracy: 0.6842\n",
            "Epoch 2/10\n",
            "608/608 [==============================] - 1s 2ms/step - loss: 0.5956 - accuracy: 0.7122 - val_loss: 0.5916 - val_accuracy: 0.7171\n",
            "Epoch 3/10\n",
            "608/608 [==============================] - 2s 3ms/step - loss: 0.5695 - accuracy: 0.7484 - val_loss: 0.5698 - val_accuracy: 0.7303\n",
            "Epoch 4/10\n",
            "608/608 [==============================] - 2s 3ms/step - loss: 0.5546 - accuracy: 0.7484 - val_loss: 0.5541 - val_accuracy: 0.7303\n",
            "Epoch 5/10\n",
            "608/608 [==============================] - 1s 2ms/step - loss: 0.5393 - accuracy: 0.7533 - val_loss: 0.5422 - val_accuracy: 0.7303\n",
            "Epoch 6/10\n",
            "608/608 [==============================] - 1s 2ms/step - loss: 0.5169 - accuracy: 0.7730 - val_loss: 0.5321 - val_accuracy: 0.7368\n",
            "Epoch 7/10\n",
            "608/608 [==============================] - 1s 2ms/step - loss: 0.5192 - accuracy: 0.7714 - val_loss: 0.5256 - val_accuracy: 0.7434\n",
            "Epoch 8/10\n",
            "608/608 [==============================] - 1s 2ms/step - loss: 0.4880 - accuracy: 0.7812 - val_loss: 0.5212 - val_accuracy: 0.7500\n",
            "Epoch 9/10\n",
            "608/608 [==============================] - 1s 2ms/step - loss: 0.4943 - accuracy: 0.7977 - val_loss: 0.5167 - val_accuracy: 0.7566\n",
            "Epoch 10/10\n",
            "608/608 [==============================] - 1s 2ms/step - loss: 0.4945 - accuracy: 0.7582 - val_loss: 0.5146 - val_accuracy: 0.7500\n",
            "19/19 [==============================] - 0s 2ms/step - loss: 0.4696 - accuracy: 0.7878\n",
            "Train acc :0.7878289222717285\n",
            "Accuracy on test set: 0.75\n"
          ]
        }
      ],
      "source": [
        "def get_model(drop):\n",
        "  model = tf.keras.Sequential([\n",
        "      tf.keras.layers.Flatten(input_shape=[7]),\n",
        "      tf.keras.layers.Dense(64,activation='relu'),\n",
        "      tf.keras.layers.Dropout(drop),\n",
        "      tf.keras.layers.Dense(64,activation='relu'),\n",
        "      tf.keras.layers.Dropout(drop),\n",
        "      tf.keras.layers.Dense(1,activation='sigmoid')\n",
        "  ])\n",
        "  return model\n",
        "\n",
        "drop = 0.25 #using the best dropout \n",
        "\n",
        "model = get_model(drop)\n",
        "print(f\"\\n\\nCompiling and Training model for SGD  and dropout value {drop} \\n\")\n",
        "model.compile(loss='binary_crossentropy',optimizer=tf.keras.optimizers.SGD(learning_rate=0.001),metrics=['accuracy'])\n",
        "results = model.fit(x_train, y_train, batch_size = 1,epochs=10,verbose=1,validation_data=(x_test, y_test))\n",
        "print(f\"Train acc :{model.evaluate(x_train, y_train, verbose=1)[1]}\")\n",
        "score = model.evaluate(x_test, y_test, verbose=0)\n",
        "print(f\"Accuracy on test set: {score[1]}\")"
      ]
    },
    {
      "cell_type": "markdown",
      "metadata": {
        "id": "BSmOpTPcCLJc"
      },
      "source": [
        "#ADAM"
      ]
    },
    {
      "cell_type": "code",
      "execution_count": null,
      "metadata": {
        "colab": {
          "base_uri": "https://localhost:8080/"
        },
        "id": "rHJDIJg1BL9t",
        "outputId": "38cb686d-8b87-4192-e290-e0e202f6b403"
      },
      "outputs": [
        {
          "name": "stdout",
          "output_type": "stream",
          "text": [
            "\n",
            "\n",
            "Compiling and Training model for ADAM  and dropout value 0.25 \n",
            "\n",
            "Epoch 1/10\n",
            "608/608 [==============================] - 2s 3ms/step - loss: 0.5799 - accuracy: 0.7122 - val_loss: 0.5396 - val_accuracy: 0.7368\n",
            "Epoch 2/10\n",
            "608/608 [==============================] - 1s 2ms/step - loss: 0.5106 - accuracy: 0.7615 - val_loss: 0.5317 - val_accuracy: 0.7237\n",
            "Epoch 3/10\n",
            "608/608 [==============================] - 2s 3ms/step - loss: 0.4793 - accuracy: 0.7845 - val_loss: 0.5261 - val_accuracy: 0.7368\n",
            "Epoch 4/10\n",
            "608/608 [==============================] - 2s 4ms/step - loss: 0.4873 - accuracy: 0.7763 - val_loss: 0.5222 - val_accuracy: 0.7105\n",
            "Epoch 5/10\n",
            "608/608 [==============================] - 1s 2ms/step - loss: 0.4707 - accuracy: 0.7845 - val_loss: 0.5408 - val_accuracy: 0.7171\n",
            "Epoch 6/10\n",
            "608/608 [==============================] - 1s 2ms/step - loss: 0.4793 - accuracy: 0.7780 - val_loss: 0.5209 - val_accuracy: 0.7171\n",
            "Epoch 7/10\n",
            "608/608 [==============================] - 1s 2ms/step - loss: 0.4715 - accuracy: 0.7944 - val_loss: 0.5133 - val_accuracy: 0.7303\n",
            "Epoch 8/10\n",
            "608/608 [==============================] - 1s 2ms/step - loss: 0.4725 - accuracy: 0.7796 - val_loss: 0.5285 - val_accuracy: 0.7368\n",
            "Epoch 9/10\n",
            "608/608 [==============================] - 1s 2ms/step - loss: 0.4536 - accuracy: 0.8010 - val_loss: 0.5277 - val_accuracy: 0.7303\n",
            "Epoch 10/10\n",
            "608/608 [==============================] - 1s 2ms/step - loss: 0.4697 - accuracy: 0.7845 - val_loss: 0.5313 - val_accuracy: 0.7303\n",
            "19/19 [==============================] - 0s 2ms/step - loss: 0.4284 - accuracy: 0.7961\n",
            "Train acc :0.7960526347160339\n",
            "Accuracy on test set: 0.7302631735801697\n"
          ]
        }
      ],
      "source": [
        "def get_model(drop):\n",
        "  model = tf.keras.Sequential([\n",
        "      tf.keras.layers.Flatten(input_shape=[7]),\n",
        "      tf.keras.layers.Dense(64,activation='relu'),\n",
        "      tf.keras.layers.Dropout(drop),\n",
        "      tf.keras.layers.Dense(64,activation='relu'),\n",
        "      tf.keras.layers.Dropout(drop),\n",
        "      tf.keras.layers.Dense(1,activation='sigmoid')\n",
        "  ])\n",
        "  return model\n",
        "\n",
        "drop = 0.25 #using the best dropout \n",
        "\n",
        "model = get_model(drop)\n",
        "print(f\"\\n\\nCompiling and Training model for ADAM  and dropout value {drop} \\n\")\n",
        "model.compile(loss='binary_crossentropy',optimizer=tf.keras.optimizers.Adam(learning_rate=0.001),metrics=['accuracy'])\n",
        "results = model.fit(x_train, y_train, batch_size = 1,epochs=10,verbose=1,validation_data=(x_test, y_test))\n",
        "print(f\"Train acc :{model.evaluate(x_train, y_train, verbose=1)[1]}\")\n",
        "score = model.evaluate(x_test, y_test, verbose=0)\n",
        "print(f\"Accuracy on test set: {score[1]}\")"
      ]
    },
    {
      "cell_type": "markdown",
      "metadata": {
        "id": "9A9j69I5CRKT"
      },
      "source": [
        "#RMS *PROP*"
      ]
    },
    {
      "cell_type": "code",
      "execution_count": null,
      "metadata": {
        "colab": {
          "base_uri": "https://localhost:8080/"
        },
        "id": "M89duA44FKcB",
        "outputId": "d97debd0-d887-4b76-c255-1fe6822b50a7"
      },
      "outputs": [
        {
          "name": "stdout",
          "output_type": "stream",
          "text": [
            "\n",
            "\n",
            "Compiling and Training model for RMSprop  and dropout value 0.25 \n",
            "\n",
            "Epoch 1/10\n",
            "608/608 [==============================] - 3s 3ms/step - loss: 0.5455 - accuracy: 0.7451 - val_loss: 0.5430 - val_accuracy: 0.7237\n",
            "Epoch 2/10\n",
            "608/608 [==============================] - 1s 2ms/step - loss: 0.5454 - accuracy: 0.7664 - val_loss: 0.5917 - val_accuracy: 0.7303\n",
            "Epoch 3/10\n",
            "608/608 [==============================] - 1s 2ms/step - loss: 0.5495 - accuracy: 0.7714 - val_loss: 0.5599 - val_accuracy: 0.7303\n",
            "Epoch 4/10\n",
            "608/608 [==============================] - 1s 2ms/step - loss: 0.5049 - accuracy: 0.7961 - val_loss: 0.6828 - val_accuracy: 0.7303\n",
            "Epoch 5/10\n",
            "608/608 [==============================] - 1s 2ms/step - loss: 0.5381 - accuracy: 0.7697 - val_loss: 0.6339 - val_accuracy: 0.7237\n",
            "Epoch 6/10\n",
            "608/608 [==============================] - 1s 2ms/step - loss: 0.5257 - accuracy: 0.7895 - val_loss: 0.6210 - val_accuracy: 0.7368\n",
            "Epoch 7/10\n",
            "608/608 [==============================] - 1s 2ms/step - loss: 0.5266 - accuracy: 0.7845 - val_loss: 0.6598 - val_accuracy: 0.7303\n",
            "Epoch 8/10\n",
            "608/608 [==============================] - 2s 3ms/step - loss: 0.5248 - accuracy: 0.7911 - val_loss: 0.6216 - val_accuracy: 0.7434\n",
            "Epoch 9/10\n",
            "608/608 [==============================] - 2s 3ms/step - loss: 0.5136 - accuracy: 0.7845 - val_loss: 0.6257 - val_accuracy: 0.7303\n",
            "Epoch 10/10\n",
            "608/608 [==============================] - 2s 2ms/step - loss: 0.5420 - accuracy: 0.7993 - val_loss: 0.6468 - val_accuracy: 0.7434\n",
            "19/19 [==============================] - 0s 2ms/step - loss: 0.4865 - accuracy: 0.7944\n",
            "Train acc :0.7944079041481018\n",
            "Accuracy on test set: 0.7434210777282715\n"
          ]
        }
      ],
      "source": [
        "def get_model(drop):\n",
        "  model = tf.keras.Sequential([\n",
        "      tf.keras.layers.Flatten(input_shape=[7]),\n",
        "      tf.keras.layers.Dense(64,activation='relu'),\n",
        "      tf.keras.layers.Dropout(drop),\n",
        "      tf.keras.layers.Dense(64,activation='relu'),\n",
        "      tf.keras.layers.Dropout(drop),\n",
        "      tf.keras.layers.Dense(1,activation='sigmoid')\n",
        "  ])\n",
        "  return model\n",
        "\n",
        "drop = 0.25 #using the best dropout \n",
        "\n",
        "model = get_model(drop)\n",
        "print(f\"\\n\\nCompiling and Training model for RMSprop  and dropout value {drop} \\n\")\n",
        "model.compile(loss='binary_crossentropy',optimizer=tf.keras.optimizers.RMSprop(learning_rate=0.001),metrics=['accuracy'])\n",
        "results = model.fit(x_train, y_train, batch_size = 1,epochs=10,verbose=1,validation_data=(x_test, y_test))\n",
        "print(f\"Train acc :{model.evaluate(x_train, y_train, verbose=1)[1]}\")\n",
        "score = model.evaluate(x_test, y_test, verbose=0)\n",
        "print(f\"Accuracy on test set: {score[1]}\")"
      ]
    },
    {
      "cell_type": "markdown",
      "metadata": {
        "id": "4XvZ_oODCXM-"
      },
      "source": [
        "#Changing the activation function using rms prop as it is giving best acc\n",
        "#relu->relu->tanh"
      ]
    },
    {
      "cell_type": "code",
      "execution_count": null,
      "metadata": {
        "colab": {
          "base_uri": "https://localhost:8080/"
        },
        "id": "sLj9V4eeIRnV",
        "outputId": "8126218d-5a35-4ad6-f1e6-838613ccbdb3"
      },
      "outputs": [
        {
          "name": "stdout",
          "output_type": "stream",
          "text": [
            "\n",
            "\n",
            "Compiling and Training model for RMSprop  and dropout value 0.25 \n",
            "\n",
            "Epoch 1/10\n",
            "608/608 [==============================] - 2s 3ms/step - loss: 1.4270 - accuracy: 0.7368 - val_loss: 1.1458 - val_accuracy: 0.7303\n",
            "Epoch 2/10\n",
            "608/608 [==============================] - 2s 3ms/step - loss: 1.4086 - accuracy: 0.7566 - val_loss: 1.3548 - val_accuracy: 0.7368\n",
            "Epoch 3/10\n",
            "608/608 [==============================] - 2s 3ms/step - loss: 1.7904 - accuracy: 0.7730 - val_loss: 1.9923 - val_accuracy: 0.7566\n",
            "Epoch 4/10\n",
            "608/608 [==============================] - 1s 2ms/step - loss: 1.6076 - accuracy: 0.7780 - val_loss: 2.1048 - val_accuracy: 0.7500\n",
            "Epoch 5/10\n",
            "608/608 [==============================] - 1s 2ms/step - loss: 1.6556 - accuracy: 0.7714 - val_loss: 2.3229 - val_accuracy: 0.7632\n",
            "Epoch 6/10\n",
            "608/608 [==============================] - 1s 2ms/step - loss: 1.8036 - accuracy: 0.7845 - val_loss: 2.5057 - val_accuracy: 0.7434\n",
            "Epoch 7/10\n",
            "608/608 [==============================] - 1s 2ms/step - loss: 2.1600 - accuracy: 0.7747 - val_loss: 2.4309 - val_accuracy: 0.7500\n",
            "Epoch 8/10\n",
            "608/608 [==============================] - 1s 2ms/step - loss: 1.9814 - accuracy: 0.7796 - val_loss: 2.2705 - val_accuracy: 0.7500\n",
            "Epoch 9/10\n",
            "608/608 [==============================] - 1s 2ms/step - loss: 1.9113 - accuracy: 0.7796 - val_loss: 2.5491 - val_accuracy: 0.7434\n",
            "Epoch 10/10\n",
            "608/608 [==============================] - 2s 3ms/step - loss: 2.1085 - accuracy: 0.7812 - val_loss: 2.2106 - val_accuracy: 0.7434\n",
            "19/19 [==============================] - 0s 2ms/step - loss: 1.6800 - accuracy: 0.7977\n",
            "Train acc :0.7976973652839661\n",
            "Accuracy on test set: 0.7434210777282715\n"
          ]
        }
      ],
      "source": [
        "def get_model(drop):\n",
        "  model = tf.keras.Sequential([\n",
        "      tf.keras.layers.Flatten(input_shape=[7]),\n",
        "      tf.keras.layers.Dense(64,activation='relu'),\n",
        "      tf.keras.layers.Dropout(drop),\n",
        "      tf.keras.layers.Dense(64,activation='relu'),\n",
        "      tf.keras.layers.Dropout(drop),\n",
        "      tf.keras.layers.Dense(1,activation='tanh')\n",
        "  ])\n",
        "  return model\n",
        "\n",
        "drop = 0.25 #using the best dropout \n",
        "\n",
        "model = get_model(drop)\n",
        "print(f\"\\n\\nCompiling and Training model for RMSprop  and dropout value {drop} \\n\")\n",
        "model.compile(loss='binary_crossentropy',optimizer=tf.keras.optimizers.RMSprop(learning_rate=0.001),metrics=['accuracy'])\n",
        "results = model.fit(x_train, y_train, batch_size = 1,epochs=10,verbose=1,validation_data=(x_test, y_test))\n",
        "print(f\"Train acc :{model.evaluate(x_train, y_train, verbose=1)[1]}\")\n",
        "score = model.evaluate(x_test, y_test, verbose=0)\n",
        "print(f\"Accuracy on test set: {score[1]}\")"
      ]
    },
    {
      "cell_type": "markdown",
      "metadata": {
        "id": "1VoTZ1f1CjY6"
      },
      "source": [
        "#softmax->softmax->sigmoid"
      ]
    },
    {
      "cell_type": "code",
      "execution_count": null,
      "metadata": {
        "colab": {
          "base_uri": "https://localhost:8080/"
        },
        "id": "yo_B5GYjPr7t",
        "outputId": "81a5ff96-2067-4037-baef-f34e55ec008a"
      },
      "outputs": [
        {
          "name": "stdout",
          "output_type": "stream",
          "text": [
            "\n",
            "\n",
            "Compiling and Training model for RMSprop  and dropout value 0.25 \n",
            "\n",
            "Epoch 1/10\n",
            "608/608 [==============================] - 2s 3ms/step - loss: 0.6716 - accuracy: 0.6513 - val_loss: 0.6609 - val_accuracy: 0.6447\n",
            "Epoch 2/10\n",
            "608/608 [==============================] - 2s 3ms/step - loss: 0.6539 - accuracy: 0.6513 - val_loss: 0.6527 - val_accuracy: 0.6447\n",
            "Epoch 3/10\n",
            "608/608 [==============================] - 2s 3ms/step - loss: 0.6484 - accuracy: 0.6513 - val_loss: 0.6506 - val_accuracy: 0.6447\n",
            "Epoch 4/10\n",
            "608/608 [==============================] - 1s 2ms/step - loss: 0.6471 - accuracy: 0.6513 - val_loss: 0.6503 - val_accuracy: 0.6447\n",
            "Epoch 5/10\n",
            "608/608 [==============================] - 1s 2ms/step - loss: 0.6474 - accuracy: 0.6513 - val_loss: 0.6505 - val_accuracy: 0.6447\n",
            "Epoch 6/10\n",
            "608/608 [==============================] - 1s 2ms/step - loss: 0.6457 - accuracy: 0.6513 - val_loss: 0.6503 - val_accuracy: 0.6447\n",
            "Epoch 7/10\n",
            "608/608 [==============================] - 1s 2ms/step - loss: 0.6463 - accuracy: 0.6513 - val_loss: 0.6501 - val_accuracy: 0.6447\n",
            "Epoch 8/10\n",
            "608/608 [==============================] - 1s 2ms/step - loss: 0.6447 - accuracy: 0.6513 - val_loss: 0.6492 - val_accuracy: 0.6447\n",
            "Epoch 9/10\n",
            "608/608 [==============================] - 1s 2ms/step - loss: 0.6455 - accuracy: 0.6513 - val_loss: 0.6474 - val_accuracy: 0.6447\n",
            "Epoch 10/10\n",
            "608/608 [==============================] - 1s 2ms/step - loss: 0.6398 - accuracy: 0.6513 - val_loss: 0.6438 - val_accuracy: 0.6447\n",
            "19/19 [==============================] - 0s 2ms/step - loss: 0.6375 - accuracy: 0.6513\n",
            "Train acc :0.6513158082962036\n",
            "Accuracy on test set: 0.6447368264198303\n"
          ]
        }
      ],
      "source": [
        "def get_model(drop):\n",
        "  model = tf.keras.Sequential([\n",
        "      tf.keras.layers.Flatten(input_shape=[7]),\n",
        "      tf.keras.layers.Dense(64,activation='softmax'),\n",
        "      tf.keras.layers.Dropout(drop),\n",
        "      tf.keras.layers.Dense(64,activation='softmax'),\n",
        "      tf.keras.layers.Dropout(drop),\n",
        "      tf.keras.layers.Dense(1,activation='sigmoid')\n",
        "  ])\n",
        "  return model\n",
        "\n",
        "drop = 0.25 #using the best dropout \n",
        "\n",
        "model = get_model(drop)\n",
        "print(f\"\\n\\nCompiling and Training model for RMSprop  and dropout value {drop} \\n\")\n",
        "model.compile(loss='binary_crossentropy',optimizer=tf.keras.optimizers.RMSprop(learning_rate=0.001),metrics=['accuracy'])\n",
        "results = model.fit(x_train, y_train, batch_size = 1,epochs=10,verbose=1,validation_data=(x_test, y_test))\n",
        "print(f\"Train acc :{model.evaluate(x_train, y_train, verbose=1)[1]}\")\n",
        "score = model.evaluate(x_test, y_test, verbose=0)\n",
        "print(f\"Accuracy on test set: {score[1]}\")"
      ]
    },
    {
      "cell_type": "markdown",
      "metadata": {
        "id": "CJZ6OzAyCmai"
      },
      "source": [
        "#softplus->softplus->tanh"
      ]
    },
    {
      "cell_type": "code",
      "execution_count": null,
      "metadata": {
        "colab": {
          "base_uri": "https://localhost:8080/"
        },
        "id": "SRAZe55sQBVG",
        "outputId": "146fe0cd-708c-4224-f9ba-ec19f063b096"
      },
      "outputs": [
        {
          "name": "stdout",
          "output_type": "stream",
          "text": [
            "\n",
            "\n",
            "Compiling and Training model for RMSprop  and dropout value 0.25 \n",
            "\n",
            "Epoch 1/10\n",
            "608/608 [==============================] - 2s 3ms/step - loss: 1.0206 - accuracy: 0.6513 - val_loss: 0.6619 - val_accuracy: 0.6447\n",
            "Epoch 2/10\n",
            "608/608 [==============================] - 1s 2ms/step - loss: 0.6540 - accuracy: 0.6513 - val_loss: 0.6512 - val_accuracy: 0.6447\n",
            "Epoch 3/10\n",
            "608/608 [==============================] - 2s 4ms/step - loss: 0.6457 - accuracy: 0.6513 - val_loss: 0.6494 - val_accuracy: 0.6447\n",
            "Epoch 4/10\n",
            "608/608 [==============================] - 4s 7ms/step - loss: 0.6410 - accuracy: 0.6513 - val_loss: 0.6400 - val_accuracy: 0.6447\n",
            "Epoch 5/10\n",
            "608/608 [==============================] - 4s 6ms/step - loss: 0.6328 - accuracy: 0.6513 - val_loss: 0.6281 - val_accuracy: 0.6447\n",
            "Epoch 6/10\n",
            "608/608 [==============================] - 3s 5ms/step - loss: 0.6155 - accuracy: 0.6513 - val_loss: 0.6132 - val_accuracy: 0.6447\n",
            "Epoch 7/10\n",
            "608/608 [==============================] - 3s 5ms/step - loss: 0.5939 - accuracy: 0.6513 - val_loss: 0.5905 - val_accuracy: 0.6447\n",
            "Epoch 8/10\n",
            "608/608 [==============================] - 5s 8ms/step - loss: 0.5634 - accuracy: 0.6513 - val_loss: 0.5612 - val_accuracy: 0.6447\n",
            "Epoch 9/10\n",
            "608/608 [==============================] - 3s 5ms/step - loss: 0.5951 - accuracy: 0.6678 - val_loss: 0.5471 - val_accuracy: 0.6447\n",
            "Epoch 10/10\n",
            "608/608 [==============================] - 3s 5ms/step - loss: 0.5472 - accuracy: 0.7007 - val_loss: 0.6124 - val_accuracy: 0.6908\n",
            "19/19 [==============================] - 0s 2ms/step - loss: 0.5853 - accuracy: 0.7171\n",
            "Train acc :0.7171052694320679\n",
            "Accuracy on test set: 0.6907894611358643\n"
          ]
        }
      ],
      "source": [
        "def get_model(drop):\n",
        "  model = tf.keras.Sequential([\n",
        "      tf.keras.layers.Flatten(input_shape=[7]),\n",
        "      tf.keras.layers.Dense(64,activation='softmax'),\n",
        "      tf.keras.layers.Dropout(drop),\n",
        "      tf.keras.layers.Dense(64,activation='softmax'),\n",
        "      tf.keras.layers.Dropout(drop),\n",
        "      tf.keras.layers.Dense(1,activation='tanh')\n",
        "  ])\n",
        "  return model\n",
        "\n",
        "drop = 0.25 #using the best dropout \n",
        "\n",
        "model = get_model(drop)\n",
        "print(f\"\\n\\nCompiling and Training model for RMSprop  and dropout value {drop} \\n\")\n",
        "model.compile(loss='binary_crossentropy',optimizer=tf.keras.optimizers.RMSprop(learning_rate=0.001),metrics=['accuracy'])\n",
        "results = model.fit(x_train, y_train, batch_size = 1,epochs=10,verbose=1,validation_data=(x_test, y_test))\n",
        "print(f\"Train acc :{model.evaluate(x_train, y_train, verbose=1)[1]}\")\n",
        "score = model.evaluate(x_test, y_test, verbose=0)\n",
        "print(f\"Accuracy on test set: {score[1]}\")"
      ]
    },
    {
      "cell_type": "markdown",
      "metadata": {
        "id": "vQtAFOQpJ1KI"
      },
      "source": [
        "#changing the initializer"
      ]
    },
    {
      "cell_type": "code",
      "execution_count": null,
      "metadata": {
        "colab": {
          "background_save": true
        },
        "id": "_n70L47PK5KU",
        "outputId": "29cc1da3-0cf6-4115-ba90-42d95f5c46e3"
      },
      "outputs": [
        {
          "ename": "NameError",
          "evalue": "ignored",
          "output_type": "error",
          "traceback": [
            "\u001b[0;31m---------------------------------------------------------------------------\u001b[0m",
            "\u001b[0;31mNameError\u001b[0m                                 Traceback (most recent call last)",
            "\u001b[0;32m<ipython-input-47-f563ac1a1a6c>\u001b[0m in \u001b[0;36m<module>\u001b[0;34m\u001b[0m\n\u001b[1;32m      1\u001b[0m \u001b[0mintilizer_one\u001b[0m \u001b[0;34m=\u001b[0m \u001b[0mtf\u001b[0m\u001b[0;34m.\u001b[0m\u001b[0mkeras\u001b[0m\u001b[0;34m.\u001b[0m\u001b[0minitializers\u001b[0m\u001b[0;34m.\u001b[0m\u001b[0mRandomNormal\u001b[0m\u001b[0;34m(\u001b[0m\u001b[0mmean\u001b[0m\u001b[0;34m=\u001b[0m\u001b[0;36m0.0\u001b[0m\u001b[0;34m,\u001b[0m \u001b[0mstddev\u001b[0m\u001b[0;34m=\u001b[0m\u001b[0;36m0.05\u001b[0m\u001b[0;34m,\u001b[0m \u001b[0mseed\u001b[0m\u001b[0;34m=\u001b[0m\u001b[0;32mNone\u001b[0m\u001b[0;34m)\u001b[0m\u001b[0;34m\u001b[0m\u001b[0;34m\u001b[0m\u001b[0m\n\u001b[1;32m      2\u001b[0m \u001b[0mintilizer_one\u001b[0m \u001b[0;34m=\u001b[0m \u001b[0mtf\u001b[0m\u001b[0;34m.\u001b[0m\u001b[0mkeras\u001b[0m\u001b[0;34m.\u001b[0m\u001b[0minitializers\u001b[0m\u001b[0;34m.\u001b[0m\u001b[0mRandomUniform\u001b[0m\u001b[0;34m(\u001b[0m\u001b[0mminval\u001b[0m\u001b[0;34m=\u001b[0m\u001b[0;34m-\u001b[0m\u001b[0;36m0.05\u001b[0m\u001b[0;34m,\u001b[0m \u001b[0mmaxval\u001b[0m\u001b[0;34m=\u001b[0m\u001b[0;36m0.05\u001b[0m\u001b[0;34m,\u001b[0m \u001b[0mseed\u001b[0m\u001b[0;34m=\u001b[0m\u001b[0;32mNone\u001b[0m\u001b[0;34m)\u001b[0m\u001b[0;34m\u001b[0m\u001b[0;34m\u001b[0m\u001b[0m\n\u001b[0;32m----> 3\u001b[0;31m \u001b[0mintilizer_one\u001b[0m \u001b[0;34m=\u001b[0m \u001b[0mff\u001b[0m\u001b[0;34m.\u001b[0m\u001b[0mkeras\u001b[0m\u001b[0;34m.\u001b[0m\u001b[0minitializers\u001b[0m\u001b[0;34m.\u001b[0m\u001b[0mTruncatedNormal\u001b[0m\u001b[0;34m(\u001b[0m\u001b[0mmean\u001b[0m\u001b[0;34m=\u001b[0m\u001b[0;36m0.0\u001b[0m\u001b[0;34m,\u001b[0m \u001b[0mstddev\u001b[0m\u001b[0;34m=\u001b[0m\u001b[0;36m0.05\u001b[0m\u001b[0;34m,\u001b[0m \u001b[0mseed\u001b[0m\u001b[0;34m=\u001b[0m\u001b[0;32mNone\u001b[0m\u001b[0;34m)\u001b[0m\u001b[0;34m\u001b[0m\u001b[0;34m\u001b[0m\u001b[0m\n\u001b[0m",
            "\u001b[0;31mNameError\u001b[0m: name 'ff' is not defined"
          ]
        }
      ],
      "source": [
        "tf.keras.initializers.RandomNormal(mean=0.0, stddev=0.05, seed=None)"
      ]
    },
    {
      "cell_type": "code",
      "execution_count": null,
      "metadata": {
        "id": "l7umV0L8QG7z"
      },
      "outputs": [],
      "source": [
        "def get_model(drop):\n",
        "  model = tf.keras.Sequential([\n",
        "      tf.keras.layers.Flatten(input_shape=[7]),\n",
        "      tf.keras.layers.Dense(64,activation='relu'),\n",
        "      tf.keras.layers.Dropout(drop),\n",
        "      tf.keras.layers.Dense(64,activation='relu'),\n",
        "      tf.keras.layers.Dropout(drop),\n",
        "      tf.keras.layers.Dense(1,activation='sigmoid')\n",
        "  ])\n",
        "  return model\n",
        "\n",
        "drop = 0.25 #using the best dropout \n",
        "\n",
        "model = get_model(drop)\n",
        "print(f\"\\n\\nCompiling and Training model for RMSprop  and dropout value {drop} \\n\")\n",
        "model.compile(loss='binary_crossentropy',optimizer=tf.keras.optimizers.RMSprop(learning_rate=0.001),metrics=['accuracy'])\n",
        "results = model.fit(x_train, y_train, batch_size = 1,epochs=10,verbose=1,validation_data=(x_test, y_test))\n",
        "print(f\"Train acc :{model.evaluate(x_train, y_train, verbose=1)[1]}\")\n",
        "score = model.evaluate(x_test, y_test, verbose=0)\n",
        "print(f\"Accuracy on test set: {score[1]}\")"
      ]
    }
  ],
  "metadata": {
    "colab": {
      "provenance": [],
      "authorship_tag": "ABX9TyNGxAe3sKas5/1mB5kRSBnS",
      "include_colab_link": true
    },
    "kernelspec": {
      "display_name": "Python 3",
      "name": "python3"
    },
    "language_info": {
      "name": "python"
    }
  },
  "nbformat": 4,
  "nbformat_minor": 0
}